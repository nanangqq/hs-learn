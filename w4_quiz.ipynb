{
 "cells": [
  {
   "cell_type": "code",
   "execution_count": 2,
   "id": "9b8cb33f",
   "metadata": {},
   "outputs": [],
   "source": [
    "a = let x = y + 2\n",
    "        y = x/3\n",
    "    in x+y"
   ]
  },
  {
   "cell_type": "code",
   "execution_count": null,
   "id": "8c9e9e45",
   "metadata": {},
   "outputs": [
    {
     "data": {
      "text/plain": [
       "Press Ctrl-C again to quit kernel."
      ]
     },
     "metadata": {},
     "output_type": "display_data"
    }
   ],
   "source": [
    "a"
   ]
  },
  {
   "cell_type": "code",
   "execution_count": null,
   "id": "a21e38f5",
   "metadata": {},
   "outputs": [],
   "source": []
  },
  {
   "cell_type": "code",
   "execution_count": 1,
   "id": "1cdda0f9",
   "metadata": {},
   "outputs": [
    {
     "ename": "",
     "evalue": "",
     "output_type": "error",
     "traceback": [
      "Parse error (line 1, column 38): parse error on input ‘where’"
     ]
    }
   ],
   "source": [
    "let x = numeral ++ \" minister\"  in x where numeral = \"prime\""
   ]
  },
  {
   "cell_type": "code",
   "execution_count": 2,
   "id": "becadc1f",
   "metadata": {},
   "outputs": [
    {
     "data": {
      "text/plain": [
       "\"prime minister\""
      ]
     },
     "metadata": {},
     "output_type": "display_data"
    }
   ],
   "source": [
    "let x = numeral ++ \" minister\"  where numeral = \"prime\" in x"
   ]
  },
  {
   "cell_type": "code",
   "execution_count": null,
   "id": "1893c868",
   "metadata": {},
   "outputs": [],
   "source": []
  }
 ],
 "metadata": {
  "kernelspec": {
   "display_name": "Haskell",
   "language": "haskell",
   "name": "haskell"
  },
  "language_info": {
   "codemirror_mode": "ihaskell",
   "file_extension": ".hs",
   "mimetype": "text/x-haskell",
   "name": "haskell",
   "pygments_lexer": "Haskell",
   "version": "8.10.4"
  }
 },
 "nbformat": 4,
 "nbformat_minor": 5
}
