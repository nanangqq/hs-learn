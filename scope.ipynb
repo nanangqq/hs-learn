{
 "cells": [
  {
   "cell_type": "code",
   "execution_count": 4,
   "id": "276e6003",
   "metadata": {},
   "outputs": [],
   "source": [
    "a =\n",
    " let x = 2\n",
    "     y = 3\n",
    " in x+y"
   ]
  },
  {
   "cell_type": "code",
   "execution_count": 5,
   "id": "030faecb",
   "metadata": {},
   "outputs": [
    {
     "data": {
      "text/plain": [
       "5"
      ]
     },
     "metadata": {},
     "output_type": "display_data"
    }
   ],
   "source": [
    "a"
   ]
  },
  {
   "cell_type": "code",
   "execution_count": 6,
   "id": "210b37f7",
   "metadata": {},
   "outputs": [
    {
     "ename": "",
     "evalue": "",
     "output_type": "error",
     "traceback": [
      "<interactive>:1:1: error: Variable not in scope: x"
     ]
    }
   ],
   "source": [
    "x"
   ]
  },
  {
   "cell_type": "code",
   "execution_count": 7,
   "id": "bc76cd8c",
   "metadata": {},
   "outputs": [
    {
     "data": {
      "text/plain": [
       "5"
      ]
     },
     "metadata": {},
     "output_type": "display_data"
    }
   ],
   "source": [
    "a"
   ]
  },
  {
   "cell_type": "code",
   "execution_count": null,
   "id": "36bac0d8",
   "metadata": {},
   "outputs": [],
   "source": []
  },
  {
   "cell_type": "code",
   "execution_count": 8,
   "id": "f7acf5c6",
   "metadata": {},
   "outputs": [],
   "source": [
    "cel2fahr :: Float -> Float\n",
    "cel2fahr x = (x*scalingfactor) + freezingpoint\n",
    " where scalingfactor = 9.0/5.0\n",
    "       freezingpoint = 32"
   ]
  },
  {
   "cell_type": "code",
   "execution_count": 9,
   "id": "8deddbe1",
   "metadata": {},
   "outputs": [
    {
     "data": {
      "text/plain": [
       "86.0"
      ]
     },
     "metadata": {},
     "output_type": "display_data"
    }
   ],
   "source": [
    "cel2fahr 30"
   ]
  },
  {
   "cell_type": "code",
   "execution_count": 10,
   "id": "3dc1dbf2",
   "metadata": {},
   "outputs": [],
   "source": [
    "b = res where res = 15"
   ]
  },
  {
   "cell_type": "code",
   "execution_count": 11,
   "id": "f73c20d4",
   "metadata": {},
   "outputs": [
    {
     "data": {
      "text/plain": [
       "15"
      ]
     },
     "metadata": {},
     "output_type": "display_data"
    }
   ],
   "source": [
    "b"
   ]
  },
  {
   "cell_type": "code",
   "execution_count": 12,
   "id": "744ec194",
   "metadata": {},
   "outputs": [],
   "source": [
    "c = res1 where res1 = 2*res2 where res2 = 5-res3 where res3 = 3"
   ]
  },
  {
   "cell_type": "code",
   "execution_count": 13,
   "id": "8a353ef7",
   "metadata": {},
   "outputs": [
    {
     "data": {
      "text/plain": [
       "4"
      ]
     },
     "metadata": {},
     "output_type": "display_data"
    }
   ],
   "source": [
    "c"
   ]
  },
  {
   "cell_type": "code",
   "execution_count": 14,
   "id": "09b64ba2",
   "metadata": {},
   "outputs": [
    {
     "data": {
      "text/plain": [
       "1"
      ]
     },
     "metadata": {},
     "output_type": "display_data"
    }
   ],
   "source": [
    "let y = 1 in y -- let 만으로 expression 됨"
   ]
  },
  {
   "cell_type": "code",
   "execution_count": 16,
   "id": "fdba2053",
   "metadata": {},
   "outputs": [
    {
     "ename": "",
     "evalue": "",
     "output_type": "error",
     "traceback": [
      "Parse error (line 1, column 4): parse error on input ‘where’"
     ]
    }
   ],
   "source": [
    "x where x = 1 -- where 만으로는 expression 안 됨"
   ]
  },
  {
   "cell_type": "code",
   "execution_count": null,
   "id": "8438aeb3",
   "metadata": {},
   "outputs": [],
   "source": []
  },
  {
   "cell_type": "code",
   "execution_count": null,
   "id": "dc450312",
   "metadata": {},
   "outputs": [],
   "source": []
  }
 ],
 "metadata": {
  "kernelspec": {
   "display_name": "Haskell",
   "language": "haskell",
   "name": "haskell"
  },
  "language_info": {
   "codemirror_mode": "ihaskell",
   "file_extension": ".hs",
   "mimetype": "text/x-haskell",
   "name": "haskell",
   "pygments_lexer": "Haskell",
   "version": "8.10.4"
  }
 },
 "nbformat": 4,
 "nbformat_minor": 5
}
