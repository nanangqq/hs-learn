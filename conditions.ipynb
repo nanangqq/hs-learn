{
 "cells": [
  {
   "cell_type": "code",
   "execution_count": 2,
   "id": "5a8f2611",
   "metadata": {},
   "outputs": [],
   "source": [
    "f x\n",
    "  | predicate1 = expression1\n",
    "  | predicate2 = expression2\n",
    "  | predicate3 = expression3\n",
    "  where predicate3 = True\n",
    "        predicate1 = False\n",
    "        predicate2 = True\n",
    "        expression1 = 1\n",
    "        expression2 = 2\n",
    "        expression3 = 3"
   ]
  },
  {
   "cell_type": "code",
   "execution_count": 3,
   "id": "3f29d8ee",
   "metadata": {},
   "outputs": [
    {
     "data": {
      "text/plain": [
       "2"
      ]
     },
     "metadata": {},
     "output_type": "display_data"
    }
   ],
   "source": [
    "f True"
   ]
  },
  {
   "cell_type": "code",
   "execution_count": 4,
   "id": "1cc6a295",
   "metadata": {},
   "outputs": [
    {
     "data": {
      "text/plain": [
       "2"
      ]
     },
     "metadata": {},
     "output_type": "display_data"
    }
   ],
   "source": [
    "f 1"
   ]
  },
  {
   "cell_type": "code",
   "execution_count": 5,
   "id": "5fe7bd3e",
   "metadata": {},
   "outputs": [
    {
     "data": {
      "text/plain": [
       "2"
      ]
     },
     "metadata": {},
     "output_type": "display_data"
    }
   ],
   "source": [
    "f null"
   ]
  },
  {
   "cell_type": "code",
   "execution_count": 6,
   "id": "de6044d9",
   "metadata": {},
   "outputs": [
    {
     "data": {
      "text/plain": [
       "2"
      ]
     },
     "metadata": {},
     "output_type": "display_data"
    }
   ],
   "source": [
    "f False"
   ]
  },
  {
   "cell_type": "code",
   "execution_count": null,
   "id": "cec90ecb",
   "metadata": {},
   "outputs": [],
   "source": []
  },
  {
   "cell_type": "code",
   "execution_count": 7,
   "id": "f6ff17df",
   "metadata": {},
   "outputs": [
    {
     "data": {
      "text/html": [
       "<style>/* Styles used for the Hoogle display in the pager */\n",
       ".hoogle-doc {\n",
       "display: block;\n",
       "padding-bottom: 1.3em;\n",
       "padding-left: 0.4em;\n",
       "}\n",
       ".hoogle-code {\n",
       "display: block;\n",
       "font-family: monospace;\n",
       "white-space: pre;\n",
       "}\n",
       ".hoogle-text {\n",
       "display: block;\n",
       "}\n",
       ".hoogle-name {\n",
       "color: green;\n",
       "font-weight: bold;\n",
       "}\n",
       ".hoogle-head {\n",
       "font-weight: bold;\n",
       "}\n",
       ".hoogle-sub {\n",
       "display: block;\n",
       "margin-left: 0.4em;\n",
       "}\n",
       ".hoogle-package {\n",
       "font-weight: bold;\n",
       "font-style: italic;\n",
       "}\n",
       ".hoogle-module {\n",
       "font-weight: bold;\n",
       "}\n",
       ".hoogle-class {\n",
       "font-weight: bold;\n",
       "}\n",
       ".get-type {\n",
       "color: green;\n",
       "font-weight: bold;\n",
       "font-family: monospace;\n",
       "display: block;\n",
       "white-space: pre-wrap;\n",
       "}\n",
       ".show-type {\n",
       "color: green;\n",
       "font-weight: bold;\n",
       "font-family: monospace;\n",
       "margin-left: 1em;\n",
       "}\n",
       ".mono {\n",
       "font-family: monospace;\n",
       "display: block;\n",
       "}\n",
       ".err-msg {\n",
       "color: red;\n",
       "font-style: italic;\n",
       "font-family: monospace;\n",
       "white-space: pre;\n",
       "display: block;\n",
       "}\n",
       "#unshowable {\n",
       "color: red;\n",
       "font-weight: bold;\n",
       "}\n",
       ".err-msg.in.collapse {\n",
       "padding-top: 0.7em;\n",
       "}\n",
       ".highlight-code {\n",
       "white-space: pre;\n",
       "font-family: monospace;\n",
       "}\n",
       ".suggestion-warning { \n",
       "font-weight: bold;\n",
       "color: rgb(200, 130, 0);\n",
       "}\n",
       ".suggestion-error { \n",
       "font-weight: bold;\n",
       "color: red;\n",
       "}\n",
       ".suggestion-name {\n",
       "font-weight: bold;\n",
       "}\n",
       "</style><div class=\"suggestion-name\" style=\"clear:both;\">Redundant bracket</div><div class=\"suggestion-row\" style=\"float: left;\"><div class=\"suggestion-warning\">Found:</div><div class=\"highlight-code\" id=\"haskell\">if (x < 0) then (- x) else x</div></div><div class=\"suggestion-row\" style=\"float: left;\"><div class=\"suggestion-warning\">Why Not:</div><div class=\"highlight-code\" id=\"haskell\">if x < 0 then (- x) else x</div></div>"
      ],
      "text/plain": [
       "Line 1: Redundant bracket\n",
       "Found:\n",
       "if (x < 0) then (- x) else x\n",
       "Why not:\n",
       "if x < 0 then (- x) else x"
      ]
     },
     "metadata": {},
     "output_type": "display_data"
    }
   ],
   "source": [
    "absolute x = if (x<0) then (-x) else x"
   ]
  },
  {
   "cell_type": "code",
   "execution_count": 8,
   "id": "1e0972c7",
   "metadata": {},
   "outputs": [],
   "source": [
    "absolute x\n",
    "  | x<0 = -x\n",
    "  | otherwise = x"
   ]
  },
  {
   "cell_type": "code",
   "execution_count": null,
   "id": "06bcd083",
   "metadata": {},
   "outputs": [],
   "source": []
  },
  {
   "cell_type": "code",
   "execution_count": 12,
   "id": "90f8028f",
   "metadata": {},
   "outputs": [],
   "source": [
    "holeScore :: Int -> Int -> String\n",
    "holeScore strokes par\n",
    "  | strokes < par = show (par-strokes) ++ \" under par\"\n",
    "  | strokes == par = \"level par\"\n",
    "  | strokes > par = show (strokes-par) ++ \" over par\""
   ]
  },
  {
   "cell_type": "code",
   "execution_count": 11,
   "id": "b48c1787",
   "metadata": {},
   "outputs": [
    {
     "data": {
      "text/html": [
       "<style>/* Styles used for the Hoogle display in the pager */\n",
       ".hoogle-doc {\n",
       "display: block;\n",
       "padding-bottom: 1.3em;\n",
       "padding-left: 0.4em;\n",
       "}\n",
       ".hoogle-code {\n",
       "display: block;\n",
       "font-family: monospace;\n",
       "white-space: pre;\n",
       "}\n",
       ".hoogle-text {\n",
       "display: block;\n",
       "}\n",
       ".hoogle-name {\n",
       "color: green;\n",
       "font-weight: bold;\n",
       "}\n",
       ".hoogle-head {\n",
       "font-weight: bold;\n",
       "}\n",
       ".hoogle-sub {\n",
       "display: block;\n",
       "margin-left: 0.4em;\n",
       "}\n",
       ".hoogle-package {\n",
       "font-weight: bold;\n",
       "font-style: italic;\n",
       "}\n",
       ".hoogle-module {\n",
       "font-weight: bold;\n",
       "}\n",
       ".hoogle-class {\n",
       "font-weight: bold;\n",
       "}\n",
       ".get-type {\n",
       "color: green;\n",
       "font-weight: bold;\n",
       "font-family: monospace;\n",
       "display: block;\n",
       "white-space: pre-wrap;\n",
       "}\n",
       ".show-type {\n",
       "color: green;\n",
       "font-weight: bold;\n",
       "font-family: monospace;\n",
       "margin-left: 1em;\n",
       "}\n",
       ".mono {\n",
       "font-family: monospace;\n",
       "display: block;\n",
       "}\n",
       ".err-msg {\n",
       "color: red;\n",
       "font-style: italic;\n",
       "font-family: monospace;\n",
       "white-space: pre;\n",
       "display: block;\n",
       "}\n",
       "#unshowable {\n",
       "color: red;\n",
       "font-weight: bold;\n",
       "}\n",
       ".err-msg.in.collapse {\n",
       "padding-top: 0.7em;\n",
       "}\n",
       ".highlight-code {\n",
       "white-space: pre;\n",
       "font-family: monospace;\n",
       "}\n",
       ".suggestion-warning { \n",
       "font-weight: bold;\n",
       "color: rgb(200, 130, 0);\n",
       "}\n",
       ".suggestion-error { \n",
       "font-weight: bold;\n",
       "color: red;\n",
       "}\n",
       ".suggestion-name {\n",
       "font-weight: bold;\n",
       "}\n",
       "</style><div class=\"suggestion-name\" style=\"clear:both;\">Redundant bracket</div><div class=\"suggestion-row\" style=\"float: left;\"><div class=\"suggestion-warning\">Found:</div><div class=\"highlight-code\" id=\"haskell\">(score)</div></div><div class=\"suggestion-row\" style=\"float: left;\"><div class=\"suggestion-warning\">Why Not:</div><div class=\"highlight-code\" id=\"haskell\">score</div></div>"
      ],
      "text/plain": [
       "Line 5: Redundant bracket\n",
       "Found:\n",
       "(score)\n",
       "Why not:\n",
       "score"
      ]
     },
     "metadata": {},
     "output_type": "display_data"
    }
   ],
   "source": [
    "holeScore :: Int -> Int -> String\n",
    "holeScore strokes par\n",
    "  | score < 0 = show (abs score) ++ \" under par\"\n",
    "  | score == 0 = \"level par\"\n",
    "  | otherwise = show (score) ++ \" over par\"\n",
    " where score = strokes-par"
   ]
  },
  {
   "cell_type": "code",
   "execution_count": null,
   "id": "e2dcc23d",
   "metadata": {},
   "outputs": [],
   "source": []
  },
  {
   "cell_type": "code",
   "execution_count": 14,
   "id": "75039f40",
   "metadata": {},
   "outputs": [],
   "source": [
    "data Pet = Cat | Dog | Fish | Sloth"
   ]
  },
  {
   "cell_type": "code",
   "execution_count": 15,
   "id": "e468ba32",
   "metadata": {},
   "outputs": [],
   "source": [
    "hello :: Pet -> String\n",
    "hello x = \n",
    "  case x of\n",
    "    Cat -> \"meeow\"\n",
    "    Dog -> \"woof\"\n",
    "    Fish -> \"bubble\""
   ]
  },
  {
   "cell_type": "code",
   "execution_count": 16,
   "id": "ac10e964",
   "metadata": {},
   "outputs": [
    {
     "ename": "",
     "evalue": "",
     "output_type": "error",
     "traceback": [
      "<interactive>:(3,3)-(6,20): Non-exhaustive patterns in case"
     ]
    }
   ],
   "source": [
    "hello Sloth"
   ]
  },
  {
   "cell_type": "code",
   "execution_count": 17,
   "id": "e4d2251b",
   "metadata": {},
   "outputs": [
    {
     "data": {
      "text/plain": [
       "\"meeow\""
      ]
     },
     "metadata": {},
     "output_type": "display_data"
    }
   ],
   "source": [
    "hello Cat"
   ]
  },
  {
   "cell_type": "code",
   "execution_count": 23,
   "id": "3f35ea33",
   "metadata": {},
   "outputs": [],
   "source": [
    "data Pet = Cat | Dog | Parrot String | Fish deriving Show\n",
    "\n",
    "hello :: Pet -> String\n",
    "hello x = \n",
    "  case x of\n",
    "    Cat -> \"meeow\"\n",
    "    Dog -> \"woof\"\n",
    "    Fish -> \"bubble\"\n",
    "    Parrot name -> \"pretty \" ++ name"
   ]
  },
  {
   "cell_type": "code",
   "execution_count": 19,
   "id": "003fda24",
   "metadata": {},
   "outputs": [
    {
     "data": {
      "text/plain": [
       "\"pretty polly\""
      ]
     },
     "metadata": {},
     "output_type": "display_data"
    }
   ],
   "source": [
    "hello (Parrot \"polly\")"
   ]
  },
  {
   "cell_type": "code",
   "execution_count": null,
   "id": "3e6d1347",
   "metadata": {},
   "outputs": [],
   "source": []
  },
  {
   "cell_type": "code",
   "execution_count": 26,
   "id": "76078eb9",
   "metadata": {},
   "outputs": [
    {
     "data": {
      "text/plain": [
       "Parrot \"hi\""
      ]
     },
     "metadata": {},
     "output_type": "display_data"
    }
   ],
   "source": [
    "Parrot \"hi\""
   ]
  },
  {
   "cell_type": "code",
   "execution_count": 28,
   "id": "f7b14733",
   "metadata": {},
   "outputs": [
    {
     "data": {
      "text/html": [
       "<style>/* Styles used for the Hoogle display in the pager */\n",
       ".hoogle-doc {\n",
       "display: block;\n",
       "padding-bottom: 1.3em;\n",
       "padding-left: 0.4em;\n",
       "}\n",
       ".hoogle-code {\n",
       "display: block;\n",
       "font-family: monospace;\n",
       "white-space: pre;\n",
       "}\n",
       ".hoogle-text {\n",
       "display: block;\n",
       "}\n",
       ".hoogle-name {\n",
       "color: green;\n",
       "font-weight: bold;\n",
       "}\n",
       ".hoogle-head {\n",
       "font-weight: bold;\n",
       "}\n",
       ".hoogle-sub {\n",
       "display: block;\n",
       "margin-left: 0.4em;\n",
       "}\n",
       ".hoogle-package {\n",
       "font-weight: bold;\n",
       "font-style: italic;\n",
       "}\n",
       ".hoogle-module {\n",
       "font-weight: bold;\n",
       "}\n",
       ".hoogle-class {\n",
       "font-weight: bold;\n",
       "}\n",
       ".get-type {\n",
       "color: green;\n",
       "font-weight: bold;\n",
       "font-family: monospace;\n",
       "display: block;\n",
       "white-space: pre-wrap;\n",
       "}\n",
       ".show-type {\n",
       "color: green;\n",
       "font-weight: bold;\n",
       "font-family: monospace;\n",
       "margin-left: 1em;\n",
       "}\n",
       ".mono {\n",
       "font-family: monospace;\n",
       "display: block;\n",
       "}\n",
       ".err-msg {\n",
       "color: red;\n",
       "font-style: italic;\n",
       "font-family: monospace;\n",
       "white-space: pre;\n",
       "display: block;\n",
       "}\n",
       "#unshowable {\n",
       "color: red;\n",
       "font-weight: bold;\n",
       "}\n",
       ".err-msg.in.collapse {\n",
       "padding-top: 0.7em;\n",
       "}\n",
       ".highlight-code {\n",
       "white-space: pre;\n",
       "font-family: monospace;\n",
       "}\n",
       ".suggestion-warning { \n",
       "font-weight: bold;\n",
       "color: rgb(200, 130, 0);\n",
       "}\n",
       ".suggestion-error { \n",
       "font-weight: bold;\n",
       "color: red;\n",
       "}\n",
       ".suggestion-name {\n",
       "font-weight: bold;\n",
       "}\n",
       "</style><span class='get-type'>Parrot \"name\" :: Pet</span>"
      ],
      "text/plain": [
       "Parrot \"name\" :: Pet"
      ]
     },
     "metadata": {},
     "output_type": "display_data"
    }
   ],
   "source": [
    ":t Parrot \"name\""
   ]
  },
  {
   "cell_type": "code",
   "execution_count": null,
   "id": "1a8a96fc",
   "metadata": {},
   "outputs": [],
   "source": []
  },
  {
   "cell_type": "code",
   "execution_count": 29,
   "id": "95619dbe",
   "metadata": {},
   "outputs": [],
   "source": [
    "hello :: Pet -> String\n",
    "hello x =\n",
    "  case x of\n",
    "    Parrot name -> \"pretty \" ++ name\n",
    "    _ -> \"grunt\""
   ]
  },
  {
   "cell_type": "code",
   "execution_count": 30,
   "id": "148f3047",
   "metadata": {},
   "outputs": [
    {
     "ename": "",
     "evalue": "",
     "output_type": "error",
     "traceback": [
      "<interactive>:1:7: error:\n    • No instance for (Num Pet) arising from the literal ‘1’\n    • In the first argument of ‘hello’, namely ‘1’\n      In the expression: hello 1\n      In an equation for ‘it’: it = hello 1"
     ]
    }
   ],
   "source": [
    "hello 1"
   ]
  },
  {
   "cell_type": "code",
   "execution_count": 31,
   "id": "88167b32",
   "metadata": {},
   "outputs": [
    {
     "data": {
      "text/plain": [
       "\"grunt\""
      ]
     },
     "metadata": {},
     "output_type": "display_data"
    }
   ],
   "source": [
    "hello Fish"
   ]
  },
  {
   "cell_type": "code",
   "execution_count": null,
   "id": "78c4ec26",
   "metadata": {},
   "outputs": [],
   "source": []
  }
 ],
 "metadata": {
  "kernelspec": {
   "display_name": "Haskell",
   "language": "haskell",
   "name": "haskell"
  },
  "language_info": {
   "codemirror_mode": "ihaskell",
   "file_extension": ".hs",
   "mimetype": "text/x-haskell",
   "name": "haskell",
   "pygments_lexer": "Haskell",
   "version": "8.10.4"
  }
 },
 "nbformat": 4,
 "nbformat_minor": 5
}
